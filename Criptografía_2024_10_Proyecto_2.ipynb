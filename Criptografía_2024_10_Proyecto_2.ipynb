{
  "cells": [
    {
      "cell_type": "markdown",
      "metadata": {
        "id": "4HhZlMCA1Brc"
      },
      "source": [
        "# **${\\Large\\text{Criptografía 2024-10 - Proyecto 2}}$**\n",
        "\n",
        "![uninorte_logo.jpg](data:image/jpeg;base64,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)\n",
        "\n",
        "---"
      ]
    },
    {
      "cell_type": "markdown",
      "metadata": {
        "id": "SjGSdZxP4sQt"
      },
      "source": [
        "## **Nombre y Códigos de los Estudiantes:**\n",
        "- Katy Diaz - 200142505\n",
        "- Jesús Durán - 200143829\n",
        "- Mariana Oquendo - 200082252\n",
        "- Leonardo Vaia - 200212652"
      ]
    },
    {
      "cell_type": "markdown",
      "metadata": {
        "id": "1dF0EGFk5zxa"
      },
      "source": [
        "## **Indicaciones:**\n",
        "\n",
        "1. **El proyecto debe ser entregado a más tardar a las 11:59 p.m. del domingo 12 de mayo del 2024**, después de esto el enlace para enviar el proyecto se cerrará. Asegúrese de enviar el proyecto antes de la hora de finalización, no se aceptarán proyectos enviados por ningún otro medio.\n",
        "2. El proyecto debe ser realizado en equipos de **4 integrantes**.\n",
        "3. Cree una copia de este archivo de Google Colab.\n",
        "4. Utilice la librería `pycryptodome` para el desarrollo del proyecto.\n",
        "  - Puede instalarla ejecutando el siguiente código en una celda del archivo de Google Colab: `!pip install pycryptodome`.\n",
        "5. Únicamente envíe el cuaderno de Jupyter con los códigos, las respuestas y el informe correspondiente."
      ]
    },
    {
      "cell_type": "markdown",
      "metadata": {
        "id": "329uSSwldlcY"
      },
      "source": [
        "## **Enunciado:**\n",
        "El objetivo de este proyecto es intentar recuperar una serie de contraseñas que han sido almacenadas de manera segura utilizando 4 protocolos diferentes listados a continuación:\n",
        "1. Protocolo de almacenamiento de contraseñas versión 1.\n",
        "   - Se almacena `(username, H(password))`.\n",
        "2. Protocolo de almacenamiento de contraseñas versión 2.\n",
        "   - Se almacena `(username, salt, H(password || salt))`.\n",
        "3. Protocolo de almacenamiento de contraseñas versión 3.\n",
        "   - Se almacena `(username, salt, H(password || pepper || salt))`.\n",
        "     - El tamaño de `pepper` es 16 bits.\n",
        "4. Protocolo de almacenamiento de contraseñas utilizando una PBKDF.\n",
        "   - Se almacena `(username, salt, PBKDF(password, salt, 64, 2 ** 20, H))`.\n",
        "     - `64` es el número de bytes que se obtentrán de la función `PBKDF`.\n",
        "     - `2 ** 20` es la dificultad `d` de la función `PBKDF`.\n",
        "\n",
        "En todos los escenarios anteriores la función hash `H` utilizada fue `SHA3_512` de `Crypto.Hash`. Para el último escenario la función PBKDF utilizada fue `PBKDF2` de `Crypto.Protocol.KDF`.\n",
        "\n",
        "En cada escenario deberán obtener la contraseña para cada uno de los integrantes del grupo de trabajo utilizando como identificador el usuario Uninorte. Para ello, deberán utilizar el **archivo de contraseñas comunes** ([rockyou.txt](https://www.kaggle.com/datasets/wjburns/common-password-list-rockyoutxt)) provisto y la base de datos (archivo de contraseñas) correspondiente.\n",
        "\n",
        "Se recomienda paralelizar el proceso de búsqueda de contraseñas para reducir el tiempo de ejecución.\n",
        "\n",
        "Finalmente, se debe realizar un informe (puede ser en el mismo Jupyter Notebook / Google Colab) dónde:\n",
        "1. Se expliquen los métodos / estrategias utilizados para obtener las contraseñas originales.\n",
        "2. Se realice un análisis de los tiempos de ejecución de los métodos propuestos para la recuperación de las contraseñas.\n",
        "3. Se realice un breve análisis de seguridad de los protocolos, contra un atacante que se robe la base de datos de las contraseñas. Adicionalmente, mencione cuál(es) protocolo(s) utilizaria usted para la protección de las contraseñas y por qué.\n",
        "4. Se exponga y justifique los contratiempos y motivos en caso de no recuperar alguna de las contraseñas originales."
      ]
    },
    {
      "cell_type": "markdown",
      "metadata": {
        "id": "F2_cl-dT5xl1"
      },
      "source": [
        "## **Caso 1 (Protocolo V.1):**"
      ]
    },
    {
      "cell_type": "code",
      "execution_count": 1,
      "metadata": {
        "id": "JEobVRWU59yN"
      },
      "outputs": [],
      "source": [
        "filename = 'password_database_v1.csv'"
      ]
    },
    {
      "cell_type": "code",
      "execution_count": 2,
      "metadata": {},
      "outputs": [],
      "source": [
        "from Crypto.Hash import SHA3_512"
      ]
    },
    {
      "cell_type": "code",
      "execution_count": 3,
      "metadata": {},
      "outputs": [],
      "source": [
        "import pandas as pd\n",
        "import numpy as np\n",
        "\n",
        "df_hash = pd.read_csv(filename)\n"
      ]
    },
    {
      "cell_type": "code",
      "execution_count": 4,
      "metadata": {},
      "outputs": [],
      "source": [
        "usernames = ['lvaia', 'jdiazk','dcardenasj']"
      ]
    },
    {
      "cell_type": "code",
      "execution_count": 5,
      "metadata": {},
      "outputs": [],
      "source": [
        "# get from the df_hash the row with the username contained in the list usernames\n",
        "rows = []\n",
        "hashes = []\n",
        "i = 0\n",
        "for username in usernames:\n",
        "    rows.append(df_hash[df_hash['username'] == username])\n",
        "    hashes.append(rows[i]['password'].values[0])\n",
        "    i = i + 1\n"
      ]
    },
    {
      "cell_type": "code",
      "execution_count": 6,
      "metadata": {},
      "outputs": [
        {
          "name": "stdout",
          "output_type": "stream",
          "text": [
            "<built-in function hash>\n"
          ]
        }
      ],
      "source": [
        "print(hash)"
      ]
    },
    {
      "cell_type": "code",
      "execution_count": 7,
      "metadata": {},
      "outputs": [],
      "source": [
        "def hash_password(password,hash_to_compare):\n",
        "    h = SHA3_512.new()\n",
        "    h.update(password.encode())\n",
        "    tmp = h.hexdigest()\n",
        "    if tmp == hash_to_compare:\n",
        "        print('Password correct')\n",
        "        print('Password: ',password)\n",
        "        return tmp\n",
        "    pass\n"
      ]
    },
    {
      "cell_type": "code",
      "execution_count": 8,
      "metadata": {},
      "outputs": [],
      "source": [
        "with open('rockyou.txt', 'r', encoding='latin-1') as file:\n",
        "    passwords = file.readlines()\n",
        "    passwords = [password.strip() for password in passwords]\n"
      ]
    },
    {
      "cell_type": "code",
      "execution_count": 9,
      "metadata": {},
      "outputs": [
        {
          "name": "stdout",
          "output_type": "stream",
          "text": [
            "['123456', '12345', '123456789', 'password', 'iloveyou', 'princess', '1234567', 'rockyou', '12345678', 'abc123', 'nicole', 'daniel', 'babygirl', 'monkey', 'lovely', 'jessica', '654321', 'michael', 'ashley', 'qwerty']\n"
          ]
        }
      ],
      "source": [
        "print(passwords[:20])"
      ]
    },
    {
      "cell_type": "code",
      "execution_count": 10,
      "metadata": {},
      "outputs": [
        {
          "name": "stdout",
          "output_type": "stream",
          "text": [
            "Hashing passwords\n",
            "Number of passwords:  14344391\n",
            "Password correct for row:  lvaia\n",
            "Password:  LASING\n",
            "Password correct for row:  jdiazk\n",
            "Password:  knd0429\n",
            "Password correct for row:  dcardenasj\n",
            "Password:  156gpvadbxs\n"
          ]
        },
        {
          "data": {
            "text/plain": [
              "['LASING', 'knd0429', '156gpvadbxs']"
            ]
          },
          "execution_count": 10,
          "metadata": {},
          "output_type": "execute_result"
        }
      ],
      "source": [
        "import hashing\n",
        "hashing.hash_passwords(passwords,rows,hashes)"
      ]
    },
    {
      "cell_type": "markdown",
      "metadata": {
        "id": "jGJGnYdY59SQ"
      },
      "source": [
        "## **Caso 2 (Protocolo V.2):**"
      ]
    },
    {
      "cell_type": "code",
      "execution_count": 11,
      "metadata": {
        "id": "_Td3k0xC588_"
      },
      "outputs": [],
      "source": [
        "filename = './password_database_v2.csv'"
      ]
    },
    {
      "cell_type": "code",
      "execution_count": 12,
      "metadata": {},
      "outputs": [],
      "source": [
        "df_hash = pd.read_csv(filename)"
      ]
    },
    {
      "cell_type": "code",
      "execution_count": 13,
      "metadata": {},
      "outputs": [
        {
          "name": "stdout",
          "output_type": "stream",
          "text": [
            "['cb83afb5bb4291c635a8ce8e2ea0e5bca2b6dde3f89e2b57ec035a29dba8d7f31fd472e31d65e2db31c8a020bf7ab025e5fa166474b357b8d9e4dc801dc09761', 'bdf92ac37348354bdabba7252ad92ca110a23f6a93eed173c9e00a8a1e9ccace2e6f7546a97063ec37aae0bd12a268f4cdb35fcdf9d07d7ad1199feaa0cd4fed', '16147dce8e349c25f05c687e79b05319875f1b492dc67ef85a8b6d8b1a7e66d762834e0e8b664a5c0fe3b0fb2de2a456957caafea40a2c710e7e7435610dd585']\n",
            "[b'\\x9b]{\\x19\\xf5i%T\\xcc$p\\x93A\\xfc\\xcch', b'T\\x87D7\\x1c2f\\xa4\\xcf\\xe9X \\xc5\\x8a\\xde\\xfa', b'\\xa3\\xae\\xd8\\x9d\\xd5\\xa5\\xa8\\xc6\\x9eA$\\xd1n\\x14\\x81\\x9f']\n"
          ]
        }
      ],
      "source": [
        "# get from the df_hash the row with the username contained in the list usernames\n",
        "rows = []\n",
        "hashes = []\n",
        "salts = []\n",
        "i = 0\n",
        "for username in usernames:\n",
        "    rows.append(df_hash[df_hash['username'] == username])\n",
        "    hashes.append(rows[i]['password'].values[0])\n",
        "    salts.append(bytes.fromhex(rows[i]['salt'].values[0]))\n",
        "    i = i + 1\n",
        "print(hashes)\n",
        "print(salts)\n"
      ]
    },
    {
      "cell_type": "code",
      "execution_count": 21,
      "metadata": {},
      "outputs": [
        {
          "name": "stderr",
          "output_type": "stream",
          "text": [
            "/var/folders/x5/spm_6r5944dfgx3qj8my0m440000gn/T/ipykernel_24600/2704734641.py:2: SettingWithCopyWarning: \n",
            "A value is trying to be set on a copy of a slice from a DataFrame.\n",
            "Try using .loc[row_indexer,col_indexer] = value instead\n",
            "\n",
            "See the caveats in the documentation: https://pandas.pydata.org/pandas-docs/stable/user_guide/indexing.html#returning-a-view-versus-a-copy\n",
            "  row['salt'] = bytes.fromhex(row['salt'].values[0])\n"
          ]
        }
      ],
      "source": [
        "for row in rows:\n",
        "    row['salt'] = bytes.fromhex(row['salt'].values[0])"
      ]
    },
    {
      "cell_type": "code",
      "execution_count": 23,
      "metadata": {},
      "outputs": [
        {
          "name": "stdout",
          "output_type": "stream",
          "text": [
            "Hashing passwords\n",
            "Number of passwords:  14344391\n",
            "['cb83afb5bb4291c635a8ce8e2ea0e5bca2b6dde3f89e2b57ec035a29dba8d7f31fd472e31d65e2db31c8a020bf7ab025e5fa166474b357b8d9e4dc801dc09761', 'bdf92ac37348354bdabba7252ad92ca110a23f6a93eed173c9e00a8a1e9ccace2e6f7546a97063ec37aae0bd12a268f4cdb35fcdf9d07d7ad1199feaa0cd4fed', '16147dce8e349c25f05c687e79b05319875f1b492dc67ef85a8b6d8b1a7e66d762834e0e8b664a5c0fe3b0fb2de2a456957caafea40a2c710e7e7435610dd585']\n",
            "Password correct for username:  dcardenasj\n",
            "Password:  jean76\n",
            "Password correct for username:  lvaia\n",
            "Password:  st1nkp0t\n",
            "Password correct for username:  jdiazk\n",
            "Password:  TuggyBug!\n"
          ]
        },
        {
          "data": {
            "text/plain": [
              "['jean76', 'st1nkp0t', 'TuggyBug!']"
            ]
          },
          "execution_count": 23,
          "metadata": {},
          "output_type": "execute_result"
        }
      ],
      "source": [
        "import hashing_2\n",
        "hashing_2.hash_passwords(passwords,rows)"
      ]
    },
    {
      "cell_type": "markdown",
      "metadata": {
        "id": "jlfKrwdF6CLf"
      },
      "source": [
        "## **Caso 3 (Protocolo V.3):**"
      ]
    },
    {
      "cell_type": "code",
      "execution_count": null,
      "metadata": {
        "id": "tGWbmKM96G5O"
      },
      "outputs": [],
      "source": [
        "filename = './password_database_v3.csv'"
      ]
    },
    {
      "cell_type": "markdown",
      "metadata": {
        "id": "ZLq5v3Ia6Gmn"
      },
      "source": [
        "## **Caso 4 (Protocolo V.PBKDF):**"
      ]
    },
    {
      "cell_type": "code",
      "execution_count": 24,
      "metadata": {
        "id": "zWE4akG36GbP"
      },
      "outputs": [],
      "source": [
        "filename = './password_database_vPBKDF.csv'"
      ]
    },
    {
      "cell_type": "code",
      "execution_count": 25,
      "metadata": {},
      "outputs": [],
      "source": [
        "df_hash = pd.read_csv(filename)"
      ]
    },
    {
      "cell_type": "code",
      "execution_count": 26,
      "metadata": {},
      "outputs": [
        {
          "name": "stdout",
          "output_type": "stream",
          "text": [
            "['1dd75ef5ccf20858fb87c02dbaf8ebb97bcb5473469e0863afb5c535150b2b7878609abfe22f3425cf5b650bd38dbc8baff74149c29842018837f84ac96480c3', '25c77732faa1ec75b9eb19e187bd0e32704d55fe4ad86c86d6477027f5b8a6ce0a4d132d68dde56036ed0af5c8ce0ede4d82fe20682c809abadf07db6b988fb8', 'b163a1bcf0d94fa8fb44c1c21ac4738499b8e9369cdfcf3f0d1bdda3b3fdc521455bac25c645ff805cfdc26a25cd13d47a0fdec17729fa5a6ff9686363d2acc2']\n"
          ]
        }
      ],
      "source": [
        "# get from the df_hash the row with the username contained in the list usernames\n",
        "rows = []\n",
        "hashes = []\n",
        "i = 0\n",
        "for username in usernames:\n",
        "    rows.append(df_hash[df_hash['username'] == username])\n",
        "    hashes.append(rows[i]['password'].values[0])\n",
        "    i = i + 1\n",
        "print(hashes)"
      ]
    },
    {
      "cell_type": "code",
      "execution_count": 27,
      "metadata": {},
      "outputs": [
        {
          "name": "stdout",
          "output_type": "stream",
          "text": [
            "Hashing passwords\n",
            "Number of passwords:  14344391\n",
            "0\n",
            "0\n",
            "0\n",
            "0\n",
            "0\n",
            "0\n",
            "0\n",
            "60\n",
            "80\n",
            "120\n",
            "140\n",
            "200\n",
            "240\n",
            "320\n",
            "340\n",
            "380\n",
            "400\n"
          ]
        },
        {
          "ename": "KeyboardInterrupt",
          "evalue": "",
          "output_type": "error",
          "traceback": [
            "\u001b[0;31m---------------------------------------------------------------------------\u001b[0m",
            "\u001b[0;31mKeyboardInterrupt\u001b[0m                         Traceback (most recent call last)",
            "Cell \u001b[0;32mIn[27], line 2\u001b[0m\n\u001b[1;32m      1\u001b[0m \u001b[38;5;28;01mimport\u001b[39;00m \u001b[38;5;21;01mhashing_4\u001b[39;00m\n\u001b[0;32m----> 2\u001b[0m \u001b[43mhashing_4\u001b[49m\u001b[38;5;241;43m.\u001b[39;49m\u001b[43mhash_passwords\u001b[49m\u001b[43m(\u001b[49m\u001b[43mpasswords\u001b[49m\u001b[43m,\u001b[49m\u001b[43mrows\u001b[49m\u001b[43m)\u001b[49m\n",
            "File \u001b[0;32m~/Documents/Cryptografia/Proyecto2/hashing_4.py:38\u001b[0m, in \u001b[0;36mhash_passwords\u001b[0;34m(passwords, rows)\u001b[0m\n\u001b[1;32m     35\u001b[0m hashes_to_compare \u001b[38;5;241m=\u001b[39m [row[\u001b[38;5;124m'\u001b[39m\u001b[38;5;124mpassword\u001b[39m\u001b[38;5;124m'\u001b[39m]\u001b[38;5;241m.\u001b[39mvalues[\u001b[38;5;241m0\u001b[39m] \u001b[38;5;28;01mfor\u001b[39;00m row \u001b[38;5;129;01min\u001b[39;00m rows]\n\u001b[1;32m     37\u001b[0m \u001b[38;5;28;01mwith\u001b[39;00m Pool(processes\u001b[38;5;241m=\u001b[39m\u001b[38;5;241m10\u001b[39m) \u001b[38;5;28;01mas\u001b[39;00m p:\n\u001b[0;32m---> 38\u001b[0m     results \u001b[38;5;241m=\u001b[39m \u001b[43mp\u001b[49m\u001b[38;5;241;43m.\u001b[39;49m\u001b[43mstarmap\u001b[49m\u001b[43m(\u001b[49m\u001b[43mhash_password\u001b[49m\u001b[43m,\u001b[49m\u001b[43m \u001b[49m\u001b[38;5;28;43mzip\u001b[39;49m\u001b[43m(\u001b[49m\u001b[43m(\u001b[49m\u001b[43m(\u001b[49m\u001b[43mpassword\u001b[49m\u001b[43m,\u001b[49m\u001b[43m \u001b[49m\u001b[43mflag\u001b[49m\u001b[43m)\u001b[49m\u001b[38;5;28;43;01mfor\u001b[39;49;00m\u001b[43m \u001b[49m\u001b[43mpassword\u001b[49m\u001b[43m \u001b[49m\u001b[38;5;129;43;01min\u001b[39;49;00m\u001b[43m \u001b[49m\u001b[43mpasswords\u001b[49m\u001b[43m)\u001b[49m\u001b[43m,\u001b[49m\u001b[43mrepeat\u001b[49m\u001b[43m(\u001b[49m\u001b[43mrows\u001b[49m\u001b[43m)\u001b[49m\u001b[43m,\u001b[49m\u001b[43mrepeat\u001b[49m\u001b[43m(\u001b[49m\u001b[43mhashes_to_compare\u001b[49m\u001b[43m)\u001b[49m\u001b[43m)\u001b[49m\u001b[43m)\u001b[49m\n\u001b[1;32m     39\u001b[0m \u001b[38;5;66;03m# Filter out None values (passwords not found) from results\u001b[39;00m\n\u001b[1;32m     40\u001b[0m found_passwords \u001b[38;5;241m=\u001b[39m [password \u001b[38;5;28;01mfor\u001b[39;00m password \u001b[38;5;129;01min\u001b[39;00m results \u001b[38;5;28;01mif\u001b[39;00m password \u001b[38;5;129;01mis\u001b[39;00m \u001b[38;5;129;01mnot\u001b[39;00m \u001b[38;5;28;01mNone\u001b[39;00m]\n",
            "File \u001b[0;32m~/miniconda3/envs/ml_venv/lib/python3.9/multiprocessing/pool.py:372\u001b[0m, in \u001b[0;36mPool.starmap\u001b[0;34m(self, func, iterable, chunksize)\u001b[0m\n\u001b[1;32m    366\u001b[0m \u001b[38;5;28;01mdef\u001b[39;00m \u001b[38;5;21mstarmap\u001b[39m(\u001b[38;5;28mself\u001b[39m, func, iterable, chunksize\u001b[38;5;241m=\u001b[39m\u001b[38;5;28;01mNone\u001b[39;00m):\n\u001b[1;32m    367\u001b[0m \u001b[38;5;250m    \u001b[39m\u001b[38;5;124;03m'''\u001b[39;00m\n\u001b[1;32m    368\u001b[0m \u001b[38;5;124;03m    Like `map()` method but the elements of the `iterable` are expected to\u001b[39;00m\n\u001b[1;32m    369\u001b[0m \u001b[38;5;124;03m    be iterables as well and will be unpacked as arguments. Hence\u001b[39;00m\n\u001b[1;32m    370\u001b[0m \u001b[38;5;124;03m    `func` and (a, b) becomes func(a, b).\u001b[39;00m\n\u001b[1;32m    371\u001b[0m \u001b[38;5;124;03m    '''\u001b[39;00m\n\u001b[0;32m--> 372\u001b[0m     \u001b[38;5;28;01mreturn\u001b[39;00m \u001b[38;5;28;43mself\u001b[39;49m\u001b[38;5;241;43m.\u001b[39;49m\u001b[43m_map_async\u001b[49m\u001b[43m(\u001b[49m\u001b[43mfunc\u001b[49m\u001b[43m,\u001b[49m\u001b[43m \u001b[49m\u001b[43miterable\u001b[49m\u001b[43m,\u001b[49m\u001b[43m \u001b[49m\u001b[43mstarmapstar\u001b[49m\u001b[43m,\u001b[49m\u001b[43m \u001b[49m\u001b[43mchunksize\u001b[49m\u001b[43m)\u001b[49m\u001b[38;5;241;43m.\u001b[39;49m\u001b[43mget\u001b[49m\u001b[43m(\u001b[49m\u001b[43m)\u001b[49m\n",
            "File \u001b[0;32m~/miniconda3/envs/ml_venv/lib/python3.9/multiprocessing/pool.py:765\u001b[0m, in \u001b[0;36mApplyResult.get\u001b[0;34m(self, timeout)\u001b[0m\n\u001b[1;32m    764\u001b[0m \u001b[38;5;28;01mdef\u001b[39;00m \u001b[38;5;21mget\u001b[39m(\u001b[38;5;28mself\u001b[39m, timeout\u001b[38;5;241m=\u001b[39m\u001b[38;5;28;01mNone\u001b[39;00m):\n\u001b[0;32m--> 765\u001b[0m     \u001b[38;5;28;43mself\u001b[39;49m\u001b[38;5;241;43m.\u001b[39;49m\u001b[43mwait\u001b[49m\u001b[43m(\u001b[49m\u001b[43mtimeout\u001b[49m\u001b[43m)\u001b[49m\n\u001b[1;32m    766\u001b[0m     \u001b[38;5;28;01mif\u001b[39;00m \u001b[38;5;129;01mnot\u001b[39;00m \u001b[38;5;28mself\u001b[39m\u001b[38;5;241m.\u001b[39mready():\n\u001b[1;32m    767\u001b[0m         \u001b[38;5;28;01mraise\u001b[39;00m \u001b[38;5;167;01mTimeoutError\u001b[39;00m\n",
            "File \u001b[0;32m~/miniconda3/envs/ml_venv/lib/python3.9/multiprocessing/pool.py:762\u001b[0m, in \u001b[0;36mApplyResult.wait\u001b[0;34m(self, timeout)\u001b[0m\n\u001b[1;32m    761\u001b[0m \u001b[38;5;28;01mdef\u001b[39;00m \u001b[38;5;21mwait\u001b[39m(\u001b[38;5;28mself\u001b[39m, timeout\u001b[38;5;241m=\u001b[39m\u001b[38;5;28;01mNone\u001b[39;00m):\n\u001b[0;32m--> 762\u001b[0m     \u001b[38;5;28;43mself\u001b[39;49m\u001b[38;5;241;43m.\u001b[39;49m\u001b[43m_event\u001b[49m\u001b[38;5;241;43m.\u001b[39;49m\u001b[43mwait\u001b[49m\u001b[43m(\u001b[49m\u001b[43mtimeout\u001b[49m\u001b[43m)\u001b[49m\n",
            "File \u001b[0;32m~/miniconda3/envs/ml_venv/lib/python3.9/threading.py:581\u001b[0m, in \u001b[0;36mEvent.wait\u001b[0;34m(self, timeout)\u001b[0m\n\u001b[1;32m    579\u001b[0m signaled \u001b[38;5;241m=\u001b[39m \u001b[38;5;28mself\u001b[39m\u001b[38;5;241m.\u001b[39m_flag\n\u001b[1;32m    580\u001b[0m \u001b[38;5;28;01mif\u001b[39;00m \u001b[38;5;129;01mnot\u001b[39;00m signaled:\n\u001b[0;32m--> 581\u001b[0m     signaled \u001b[38;5;241m=\u001b[39m \u001b[38;5;28;43mself\u001b[39;49m\u001b[38;5;241;43m.\u001b[39;49m\u001b[43m_cond\u001b[49m\u001b[38;5;241;43m.\u001b[39;49m\u001b[43mwait\u001b[49m\u001b[43m(\u001b[49m\u001b[43mtimeout\u001b[49m\u001b[43m)\u001b[49m\n\u001b[1;32m    582\u001b[0m \u001b[38;5;28;01mreturn\u001b[39;00m signaled\n",
            "File \u001b[0;32m~/miniconda3/envs/ml_venv/lib/python3.9/threading.py:312\u001b[0m, in \u001b[0;36mCondition.wait\u001b[0;34m(self, timeout)\u001b[0m\n\u001b[1;32m    310\u001b[0m \u001b[38;5;28;01mtry\u001b[39;00m:    \u001b[38;5;66;03m# restore state no matter what (e.g., KeyboardInterrupt)\u001b[39;00m\n\u001b[1;32m    311\u001b[0m     \u001b[38;5;28;01mif\u001b[39;00m timeout \u001b[38;5;129;01mis\u001b[39;00m \u001b[38;5;28;01mNone\u001b[39;00m:\n\u001b[0;32m--> 312\u001b[0m         \u001b[43mwaiter\u001b[49m\u001b[38;5;241;43m.\u001b[39;49m\u001b[43macquire\u001b[49m\u001b[43m(\u001b[49m\u001b[43m)\u001b[49m\n\u001b[1;32m    313\u001b[0m         gotit \u001b[38;5;241m=\u001b[39m \u001b[38;5;28;01mTrue\u001b[39;00m\n\u001b[1;32m    314\u001b[0m     \u001b[38;5;28;01melse\u001b[39;00m:\n",
            "\u001b[0;31mKeyboardInterrupt\u001b[0m: "
          ]
        }
      ],
      "source": [
        "import hashing_4\n",
        "hashing_4.hash_passwords(passwords,rows)"
      ]
    },
    {
      "cell_type": "markdown",
      "metadata": {},
      "source": [
        "it computes 400 different password each minute, so it will try all of them in more or less 20 days"
      ]
    },
    {
      "cell_type": "markdown",
      "metadata": {},
      "source": [
        "## Informe\n",
        "\n",
        "En el siguiente informe se enunciarán los métodos/estrategias utilizadas, para el desarrollo del proyecto, así como los análisis de tiempo de ejecución en cada uno de los casos y un análisis de seguridad de los métodos implementados.\n",
        "En primer lugar, el código se desarrolló en 4 etapas: búsqueda de contraseñas comunes, en esta etapa se utilizó una lista de contraseñas del archivo \"rockyou.txt\"; Uso de la técnica salting para mejorar la seguridad de las contraseñas almacenadas, en tercer lugar, se hace una comparación de contraseñas seguras, de modo que se concatena la contaseña junto con la salt y el pepper, y luego se calcula el hash, y en ultimo lugar, se hace uso de las funciones hash seguras tal como la función SHA3_512, esto con el fin de garantizar que los hashes sean resistentes a las colisiones.\n",
        "Con respecto a los análisis de tiempo tenemos que:\n",
        "\n",
        "hemos utilizado archivos py mas esto notebook por el desarollo del proyecto porque la paralelizacion funciona mucho mejor asi,\n",
        "\n",
        " #### Caso 1:\n",
        "-Tiempo de ejecución: 40 segundos.\n",
        "En este caso se infiere que el método utilizado es eficiente, esto debido a la efectividad y rápidez con la cual se ejecutó el código. Es probable que esto se deba a la ausencia de la salt y/u otros factores que aumenten la complejidad de calculo del hash.\n",
        "#### Caso 2:\n",
        "-Tiempo de ejecución: 42 segundos.\n",
        "Al igual que el caso 1 este no tiene un tiempo de ejecución muy largo, aunque se hace uso de la \"salt\" para aumentar la seguridad, no parece afectar siginificativamente el tiempo de ejecución en comparación con el caso 1.\n",
        "#### Caso 3:\n",
        "-Tiempo estimado de ejecución: 50 días.\n",
        "Este caso no alcazó a ejecutarse debido al tiempo estimado de ejecución, ya que este en comparación con los dos anteriores es notablemente mucho mas largo. Se supone que esto se debe a la introducción de un valor \"pepper\" el cual aumentaría la complejidad del cálculo hash, porque el calculo va a ser lo mismo del caso 2 pero moltiplicado por 2^16 veces entonces va a ser un tempo de ejecucion de mas o menos de 50 dias con este algoritmo.\n",
        "#### Caso 4:\n",
        "-Tiempo estimado de ejecución: 25 días.\n",
        "Aunque el tiempo de ejecución de este método es más corto que el del Caso 3, con 25 días sigue siendo largo. Sin embargo, en este se analizan 400 contraseñas por minuto, lo cual indica que este método puede ser más eficiente en términos de velocidad de procesamiento en comparación con el Caso 3.\n",
        "\n",
        "#### Conclusion\n",
        "En conclusión, os Casos 1 y 2, que no incorporan el uso de sal, demostraron ser los más eficientes en términos de velocidad de procesamiento. Esto se atribuye a la ausencia de factores adicionales que aumenten la complejidad del cálculo del hash. Sin embargo, aunque el Caso 2 incorpora la sal en su enfoque, su tiempo de ejecución sigue siendo comparable al del Caso 1. Por otro lado, el Caso 3, que introduce el concepto de 'pepper' en el almacenamiento de contraseñas, mostró un tiempo de ejecución significativamente más largo en comparación con los Casos 1 y 2. La inclusión del 'pepper' añade una capa adicional de complejidad al cálculo del hash, lo que resulta en un proceso más lento y prolongado. mientras el Caso 4, que implementa una función de derivación de clave basada en contraseña (PBKDF), exhibió un tiempo de ejecución considerablemente largo, pero con la capacidad de analizar un gran número de contraseñas por minuto. Esto sugiere que, a pesar de su prolongado tiempo de ejecución absoluto, el enfoque utilizado en el Caso 4 permite una mayor eficiencia en términos de procesamiento de contraseñas a gran escala.\n",
        "En resumen, los resultados del análisis de tiempo de ejecución, revelan que la inclusión de factores adicionales como la sal y el 'pepper' aumenta significativamente la complejidad del proceso de cálculo del hash, lo que se traduce en tiempos de ejecución más largos. En cambio, los métodos que no incorporan tales factores muestran tiempos de ejecución más cortos pero potencialmente comprometen la seguridad de las contraseñas almacenadas. Estos hallazgos destacan la importancia de encontrar un equilibrio entre la seguridad y la eficiencia en la implementación de protocolos de almacenamiento de contraseñas.\n",
        "Por otro lado, para abordar el análisis de seguridad frente a un posible robo de la base de datos de contraseñas, es esencial evaluar la capacidad de cada protocolo para proteger las contraseñas almacenadas. Los Casos 1 y 2, al carecer de pepper, serían más vulnerables a ataques de fuerza bruta y diccionario en caso de una brecha de seguridad, en el Caso 3, con la inclusión del \"pepper\", proporciona una capa adicional de seguridad al introducir un factor adicional de aleatorización en el cálculo del hash. Sin embargo, su largo tiempo de ejecución podría ser una preocupación en términos de eficiencia. Por otro lado, el Caso 4, a pesar de su largo tiempo de ejecución, podría ofrecer una mayor protección debido a la implementación de la función PBKDF, que está diseñada específicamente para hacer frente a ataques de fuerza bruta. En este sentido, consideraría utilizar el Caso 4 para la protección de contraseñas debido a su mayor resistencia frente a ataques, a pesar de su tiempo de ejecución más largo.\n",
        "Durante el proceso de recuperación de las contraseñas, nos enfrentamos a diversos contratiempos que afectaron significativamente nuestra capacidad para recuperar todas las llaves originales. Uno de los principales obstáculos que encontramos fue la organización del tiempo y la no optimización del algoritmo, lo cual no nos permitió la recuperación en los caso 3 y 4. Aunque inicialmente y por la falta de tiempo optamos por este enfoque, en retrospectiva reconocemos que no fue la mejor decisión."
      ]
    }
  ],
  "metadata": {
    "colab": {
      "provenance": []
    },
    "kernelspec": {
      "display_name": "Python 3",
      "name": "python3"
    },
    "language_info": {
      "codemirror_mode": {
        "name": "ipython",
        "version": 3
      },
      "file_extension": ".py",
      "mimetype": "text/x-python",
      "name": "python",
      "nbconvert_exporter": "python",
      "pygments_lexer": "ipython3",
      "version": "3.9.18"
    }
  },
  "nbformat": 4,
  "nbformat_minor": 0
}
